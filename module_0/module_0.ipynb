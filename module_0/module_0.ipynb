{
 "cells": [
  {
   "cell_type": "code",
   "execution_count": 10,
   "metadata": {},
   "outputs": [
    {
     "name": "stdout",
     "output_type": "stream",
     "text": [
      "Загадано число от 1 до 100\n",
      "Ваш алгоритм угадывает число в среднем за 5 попыток\n"
     ]
    },
    {
     "data": {
      "text/plain": [
       "5"
      ]
     },
     "execution_count": 10,
     "metadata": {},
     "output_type": "execute_result"
    }
   ],
   "source": [
    "import numpy as np\n",
    "count = 0                            # счетчик попыток\n",
    "number = np.random.randint(1,101)    # загадали число\n",
    "print (\"Загадано число от 1 до 100\")\n",
    "\n",
    "\n",
    "def game_core_binary_search(number):\n",
    "    \"Используем информацию о больше/меньше и алгоритм бинарного поиска\"\n",
    "    #print(f\"number:{number}\")\n",
    "    count = 1\n",
    "    # границы для поиска числа\n",
    "    min_range = 0\n",
    "    max_range = 101\n",
    "    \n",
    "    predict = max_range // 2\n",
    "    \n",
    "    while number != predict:\n",
    "        #print(f\"predict:{predict} max_range:{max_range} min_range:{min_range}\")\n",
    "        if number == predict:\n",
    "            break\n",
    "        \n",
    "        if number > predict:\n",
    "            min_range = predict\n",
    "            \n",
    "        if number < predict:\n",
    "            max_range = predict\n",
    "            \n",
    "        predict = ((max_range - min_range) // 2) + min_range   \n",
    "            \n",
    "        #print(f\"After compare. predict:{predict} max_range:{max_range} min_range:{min_range}\")\n",
    "        if count > 1000:\n",
    "            print(f\"Что-то явно не так, мы зациклились! count:{count}\")\n",
    "            break\n",
    "            \n",
    "        count+=1\n",
    "    return(count)    \n",
    "    \n",
    "        \n",
    "def score_game(game_core):\n",
    "    '''Запускаем игру 1000 раз, чтобы узнать, как быстро игра угадывает число'''\n",
    "    count_ls = []\n",
    "    np.random.seed(1)  # фиксируем RANDOM SEED, чтобы ваш эксперимент был воспроизводим!\n",
    "    random_array = np.random.randint(1,101, size=(1000))\n",
    "    for number in random_array:\n",
    "        count_ls.append(game_core(number))\n",
    "    score = int(np.mean(count_ls))\n",
    "    print(f\"Ваш алгоритм угадывает число в среднем за {score} попыток\")\n",
    "    return(score)\n",
    "\n",
    "# запускаем\n",
    "score_game(game_core_binary_search)"
   ]
  },
  {
   "cell_type": "code",
   "execution_count": null,
   "metadata": {},
   "outputs": [],
   "source": []
  }
 ],
 "metadata": {
  "kernelspec": {
   "display_name": "Python 3",
   "language": "python",
   "name": "python3"
  },
  "language_info": {
   "codemirror_mode": {
    "name": "ipython",
    "version": 3
   },
   "file_extension": ".py",
   "mimetype": "text/x-python",
   "name": "python",
   "nbconvert_exporter": "python",
   "pygments_lexer": "ipython3",
   "version": "3.7.6"
  }
 },
 "nbformat": 4,
 "nbformat_minor": 4
}
